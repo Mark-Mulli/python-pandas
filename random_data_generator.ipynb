{
 "cells": [
  {
   "cell_type": "code",
   "execution_count": 1,
   "metadata": {},
   "outputs": [],
   "source": [
    "import pandas as pd\n",
    "from faker import Faker\n",
    "\n",
    "# Create object\n",
    "fake = Faker()\n",
    "\n",
    "# Generate data\n",
    "fake.name()\n",
    "fake.text()\n",
    "fake.address()\n",
    "fake.email()\n",
    "fake.date()\n",
    "fake.country()\n",
    "fake.phone_number()\n",
    "fake.random_number(digits=5)\n",
    "df = pd.DataFrame({'Name':[fake.name() for i in range(5)],'Email':[fake.email() for i in range(5)],\n'country':[fake.country() for i in range(5)]})\n",
    "print(df)\n"
   ]
  },
  {
   "cell_type": "code",
   "execution_count": null,
   "metadata": {},
   "outputs": [],
   "source": []
  }
 ],
 "metadata": {
  "kernelspec": {
   "display_name": "Python 3",
   "language": "python",
   "name": "python3"
  },
  "language_info": {
   "codemirror_mode": {
    "name": "ipython",
    "version": 3
   },
   "file_extension": ".py",
   "mimetype": "text/x-python",
   "name": "python",
   "nbconvert_exporter": "python",
   "pygments_lexer": "ipython3",
   "version": "3.10.10"
  },
  "orig_nbformat": 4
 },
 "nbformat": 4,
 "nbformat_minor": 2
}
