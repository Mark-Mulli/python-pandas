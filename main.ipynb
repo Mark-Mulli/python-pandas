{
 "cells": [
  {
   "cell_type": "code",
   "execution_count": null,
   "metadata": {},
   "outputs": [],
   "source": [
    "#import pandas\n",
    "import pandas as pd"
   ]
  },
  {
   "cell_type": "code",
   "execution_count": null,
   "metadata": {},
   "outputs": [],
   "source": [
    "#read excel file as a dataframe\n",
    "file_path = 'res/'\n",
    "df = pd.read_excel(f'{file_path}Kansas Turnpike Authority.xlsx')\n",
    "#fill excel with values\n",
    "df['Vehicle Class'] = df['Vehicle Class'].fillna(method=\"ffill\", axis=0)\n",
    "df['Vehicle Description'] = df['Vehicle Description'].fillna(method=\"ffill\", axis=0)\n",
    "df['Exit Description']= df['Exit Description'].fillna(method=\"ffill\",axis=0)\n",
    "df['Exit Description']"
   ]
  },
  {
   "cell_type": "code",
   "execution_count": null,
   "metadata": {},
   "outputs": [],
   "source": [
    "#view all columns\n",
    "df.columns"
   ]
  },
  {
   "cell_type": "code",
   "execution_count": null,
   "metadata": {},
   "outputs": [],
   "source": [
    "#display the dataframe\n",
    "df"
   ]
  },
  {
   "cell_type": "code",
   "execution_count": null,
   "metadata": {},
   "outputs": [],
   "source": [
    "df.columns"
   ]
  },
  {
   "cell_type": "code",
   "execution_count": null,
   "metadata": {},
   "outputs": [],
   "source": [
    "#Series of vehicle class\n",
    "df['Vehicle Class']"
   ]
  },
  {
   "cell_type": "code",
   "execution_count": null,
   "metadata": {},
   "outputs": [],
   "source": [
    "df\n"
   ]
  },
  {
   "cell_type": "code",
   "execution_count": null,
   "metadata": {},
   "outputs": [],
   "source": [
    "#displays the value that meets at the row with an integer location of 4 and column with an integer location of 6\n",
    "df.iloc[4,6]"
   ]
  },
  {
   "cell_type": "code",
   "execution_count": null,
   "metadata": {},
   "outputs": [],
   "source": [
    "#an iterative statement for looping through rows\n",
    "for index,row in df.iterrows():\n",
    "    print(index,row[['Exit Description','Vehicle Class']])"
   ]
  },
  {
   "cell_type": "code",
   "execution_count": null,
   "metadata": {},
   "outputs": [],
   "source": []
  },
  {
   "cell_type": "code",
   "execution_count": null,
   "metadata": {},
   "outputs": [],
   "source": [
    "#finds all rows where the column exit description is equal to 'Wellington: US-160'\n",
    "df.loc[df['Exit Description']=='Wellington: US-160']"
   ]
  },
  {
   "cell_type": "code",
   "execution_count": null,
   "metadata": {},
   "outputs": [],
   "source": [
    "#finds all rows where the column Vehicle description is equal to 'Class 2'\n",
    "df.loc[df['Vehicle Class']=='Class 2']"
   ]
  },
  {
   "cell_type": "code",
   "execution_count": null,
   "metadata": {},
   "outputs": [],
   "source": [
    "#method describe used to find statistics of the data frame\n",
    "df.describe()"
   ]
  },
  {
   "cell_type": "code",
   "execution_count": null,
   "metadata": {},
   "outputs": [],
   "source": [
    "#import pandas\n",
    "import pandas as pd\n",
    "#read excel file as a dataframe\n",
    "file_path = 'res/'\n",
    "df = pd.read_excel(f'{file_path}Kansas Turnpike Authority.xlsx')\n",
    "#fill excel with values\n",
    "df['Vehicle Class'] = df['Vehicle Class'].fillna(method=\"ffill\", axis=0)\n",
    #fills excel values along a column 
    "df['Vehicle Description'] = df['Vehicle Description'].fillna(method=\"ffill\", axis=0)\n",
    #fills excel values along a column 
    "df['Exit Description']= df['Exit Description'].fillna(method=\"ffill\",axis=0)\n",
    #a function in pandas that sorts a series in order
    "var=df.sort_values('Exit Description', ascending=False)\n",
    #returns the first five rows in a dataframe
    "var.head(5)"
   ]
  },
  {
   "cell_type": "code",
   "execution_count": null,
   "metadata": {},
   "outputs": [],
   "source": [
    #returns a column payment and is assigned a variable to it
    "pay=df['Payment']\n",
    "pay"
   ]
  },
  {
   "cell_type": "code",
   "execution_count": null,
   "metadata": {},
   "outputs": [],
   "source": [
    #location of a particular column and gets the value that is equates to it
    "df.loc[df['Exit Description']=='Wellington: US-160']"
   ]
  },
  {
   "cell_type": "code",
   "execution_count": null,
   "metadata": {},
   "outputs": [],
   "source": [
    #location of a particular column and gets the value that is equates to it
    "var =df.loc[(df['Exit Description']=='Haysville-Derby: 71st St.') & (df['Payment']=='Cash Toll Rate')]\n",
    #a function in pandas that sorts a series in order
    "var.sort_values(ascending=True,axis=0,by=['Payment'])"
   ]
  },
  {
   "cell_type": "code",
   "execution_count": null,
   "metadata": {},
   "outputs": [],
   "source": [
    #an integer location of in a row and column manner
    "df.iloc[14,5]"
   ]
  },
  {
   "cell_type": "code",
   "execution_count": null,
   "metadata": {},
   "outputs": [],
   "source": [
    #expression that checks if a certain column that contains numerical values is greater than 50
    "var=df.loc[df[17] > 50]\n",
    "var"
   ]
  },
  {
   "cell_type": "code",
   "execution_count": null,
   "metadata": {},
   "outputs": [],
   "source": [
    #checks if a certain string in a column contains the specified word in a column
    "var= df.loc[df['Payment'].str.contains('Cash Toll Rate')]\n",
    "var.head(20)"
   ]
  },
  {
   "cell_type": "code",
   "execution_count": null,
   "metadata": {},
   "outputs": [],
   "source": [
     #location of a particular column and gets the value that is equates to it
    "var= df.loc[df['Payment']=='Cash Toll Rate']\n",
    "var.head(20)"
   ]
  },
  {
   "cell_type": "code",
   "execution_count": null,
   "metadata": {},
   "outputs": [],
   "source": [
     #location of a particular column and gets the value that is equates to it
    "df.loc[df['Exit Description'].str.contains('Cassoday' ,regex=True)]"
   ]
  },
  {
   "cell_type": "code",
   "execution_count": null,
   "metadata": {},
   "outputs": [],
   "source": [
    #describes the statistics of the dataframe
    "df.describe()"
   ]
  },
  {
   "cell_type": "code",
   "execution_count": null,
   "metadata": {},
   "outputs": [],
   "source": [
    #finds the sum of a particular column
    "col1=df[17].sum(axis=0)\n",
    #finds the sum of a particular column
    "col2= df[19].sum(axis=0)\n",
    "print(col1,col2,sep='\\t')\n"
   ]
  },
  {
   "cell_type": "code",
   "execution_count": null,
   "metadata": {},
   "outputs": [],
   "source": [
    #dataframe
    "df"
   ]
  },
  {
   "cell_type": "code",
   "execution_count": null,
   "metadata": {},
   "outputs": [],
   "source": [
    #prints the dataframe
    "x=print(df)\n",
    "x"
   ]
  },
  {
   "cell_type": "code",
   "execution_count": null,
   "metadata": {},
   "outputs": [],
   "source": [
    #an integer location of in a row and column manner
    "df.iloc[4,6]\n",
    #gets a value based on the mentioned columns(parameters)
    "lookupdf = df[(df[\"Vehicle Class\"] == \"Class 2\")& (df[\"Payment\"] == \"Electronic Toll Rate\")&(df[\"Exit\"] == 33)][19]\n",
    "lookupdf"
   ]
  },
  {
   "cell_type": "code",
   "execution_count": null,
   "metadata": {},
   "outputs": [],
   "source": [
     #gets a value based on the mentioned columns(parameters)
    "df.loc[(df[\"Vehicle Class\"]==\"Class 2\") & (df[\"Vehicle Description\"]==\"2 Axle Vehicle\") & (df[\"Exit\"]==33) & (df[\"Payment\"]==\"Electronic Toll Rate\")]"
   ]
  },
  {
   "cell_type": "code",
   "execution_count": null,
   "metadata": {},
   "outputs": [],
   "source": [
    #whole dataframe
    "df[:]"
   ]
  },
  {
   "cell_type": "code",
   "execution_count": null,
   "metadata": {},
   "outputs": [],
   "source": [
     #location of a particular column and gets the value that is equates to it
    "var=df.loc[df[\"Vehicle Class\"]==\"Class 2\"]\n",
     #location of a particular column and gets the value that is equates to it
    "col2=df.loc[df[\"Payment\"]==\"Cash Toll Rate\"]\n",
    "col2"
   ]
  },
  {
   "cell_type": "code",
   "execution_count": null,
   "metadata": {},
   "outputs": [],
   "source": [
    #gets columns
    "col1= df['Vehicle Class']\n",
    "col2 = df['Exit Description']\n",
    "print(col1,col2)\n"
   ]
  },
  {
   "cell_type": "code",
   "execution_count": null,
   "metadata": {},
   "outputs": [],
   "source": [
    #number of rows and columns in the dataframe
    "df.shape"
   ]
  },
  {
   "cell_type": "code",
   "execution_count": null,
   "metadata": {},
   "outputs": [],
   "source": [
    #location of a particular column and gets the value that is equates to it
    "col=df.loc[(df['Vehicle Class']=='Class 2') &(df['Vehicle Description']=='2 Axle Vehicle')& (df['Exit Description']=='Cassoday') & (df['Payment']=='Cash Toll Rate')]\n",
    #location of a particular column and gets the value that is equates to it
    "var=df.loc[(df[\"Vehicle Description\"]=='2 Axle Vehicle') & (df[\"Exit Description\"]=='Mulvane: K-53') & (df['Payment']=='Cash Toll Rate')]\n",
    "var\n",
    "col"
   ]
  },
  {
   "cell_type": "code",
   "execution_count": null,
   "metadata": {},
   "outputs": [],
   "source": [
    "df.shape"
   ]
  },
  {
   "cell_type": "code",
   "execution_count": null,
   "metadata": {},
   "outputs": [],
   "source": [
    #prints information about the dataframe
    "df.info()"
   ]
  },
  {
   "cell_type": "code",
   "execution_count": null,
   "metadata": {},
   "outputs": [],
   "source": [
    #location of a particular column and gets the value that is equates to it
    "df.loc[(df['Vehicle Class']=='Class 2') & (df['Exit']==33) & (df['Payment']=='Electronic Toll Rate')]"
   ]
  },
 
  {
   "cell_type": "code",
   "execution_count": null,
   "metadata": {},
   "outputs": [],
   "source": [
    "CFX['Vehicle Class']=CFX['Vehicle Class'].fillna(method='ffill',axis=0)\n",
    "CFX['Facilities']=CFX['Facilities'].fillna(method='ffill',axis=0)\n",
    "CFX['CFX Exppressway']=CFX['CFX Exppressway'].fillna(method='ffill',axis=0)\n",
    "CFX.head(100)\n"
   ]
  },
  {
   "cell_type": "code",
   "execution_count": null,
   "metadata": {},
   "outputs": [],
   "source": [
    #gets the mentioned index and displays the first two columns
    "df.iloc[[12,30,57,63,80],[2]]"
   ]
  },
  
 ],
 "metadata": {
  "kernelspec": {
   "display_name": "Python 3",
   "language": "python",
   "name": "python3"
  },
  "language_info": {
   "codemirror_mode": {
    "name": "ipython",
    "version": 3
   },
   "file_extension": ".py",
   "mimetype": "text/x-python",
   "name": "python",
   "nbconvert_exporter": "python",
   "pygments_lexer": "ipython3",
   "version": "3.11.3"
  },
  "orig_nbformat": 4,
  "vscode": {
   "interpreter": {
    "hash": "aee8b7b246df8f9039afb4144a1f6fd8d2ca17a180786b69acc140d282b71a49"
   }
  }
 },
 "nbformat": 4,
 "nbformat_minor": 2
}
