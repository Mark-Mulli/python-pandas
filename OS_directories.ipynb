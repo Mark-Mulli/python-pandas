#import os library
import os
path = "/Users/markmulli/Desktop/ShermcoReport/shermcoreport.py"
#delete a file from a folder
os.remove(path)
