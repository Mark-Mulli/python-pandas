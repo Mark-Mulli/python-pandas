{
 "cells": [
  {
   "cell_type": "code",
   "execution_count": null,
   "metadata": {},
   "outputs": [],
   "source": [
    "#increment date by 1 day\n",
    "import pandas as pd\n",
    "startdate = \"08/08/2023\"\n",
    "enddate = pd.to_datetime(startdate) + pd.DateOffset(months=1)\n",
    "print(enddate)",
   ]
  }
 ],
 "metadata": {
  "language_info": {
   "name": "python"
  },
  "orig_nbformat": 4
 },
 "nbformat": 4,
 "nbformat_minor": 2
}
