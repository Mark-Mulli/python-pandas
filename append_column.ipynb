{
 "cells": [
  {
   "cell_type": "code",
   "execution_count": null,
   "metadata": {},
   "outputs": [],
   "source": [
        "#import libraries\n"
        import glob
        import pandas as pd

        path = "C:/Users/ITSupport/Desktop/Foldername"

        file_list = glob.glob(path + "/*.csv")
        list_file = []
        print(file_list)
        for p in file_list:
            file = pd.read_csv(p)
            file['New Column'] = '-'
            if p == 'C:/Users/ITSupport/Desktop/Foldername\\filename1.csv':
                #append_the_new_column_with_a_value
                file['New Column'] = 'One'
            elif p == 'C:/Users/ITSupport/Desktop/Foldername\\filename2.csv':
                file['New Column'] = 'Two'
            elif p == 'C:/Users/ITSupport/Desktop/Foldername\\filename3.csv':
                file['New Column'] = 'Three'

            list_file.append(file)
        #concatenate_the_dataframes
        merge = pd.concat(list_file,ignore_index=True)
        #save_the_new_file
        merge.to_csv('new_merged_file.csv',index=False)
    
   ]
  }
  ],



"metadata": {
  "kernelspec": {
   "display_name": "Python 3",
   "language": "python",
   "name": "python3"
  },
  "language_info": {
   "codemirror_mode": {
    "name": "ipython",
    "version": 3
   },
   "file_extension": ".py",
   "mimetype": "text/x-python",
   "name": "python",
   "nbconvert_exporter": "python",
   "pygments_lexer": "ipython3",
   "version": "3.11.3"
  },
  "orig_nbformat": 4
 },
 "nbformat": 4,
 "nbformat_minor": 2
}

