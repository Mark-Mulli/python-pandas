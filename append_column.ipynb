#import_libraries
import glob
import pandas as pd

path = "C:/Users/ITSupport/Desktop/Foldername"

file_list = glob.glob(path + "/*.csv")
list_file = []
print(file_list)
for p in file_list:
    file = pd.read_csv(p)
    file['New Column'] = '-'
    if p == 'C:/Users/ITSupport/Desktop/Foldername\\filename1.csv':
        #append_the_new_column_with_a_value
        file['New Column'] = 'One'
    elif p == 'C:/Users/ITSupport/Desktop/Foldername\\filename2.csv':
        file['New Column'] = 'Two'
    elif p == 'C:/Users/ITSupport/Desktop/Foldername\\filename3.csv':
        file['New Column'] = 'Three'
    
    list_file.append(file)
#concatenate_the_dataframes
merge = pd.concat(list_file,ignore_index=True)
#save_the_new_file
merge.to_csv('new_merged_file.csv',index=False)
