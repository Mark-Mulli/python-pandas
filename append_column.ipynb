{
 "cells": [
  {
   "cell_type": "code",
   "execution_count": null,
   "metadata": {},
   "outputs": [],
   "source": [
        "#import libraries\n",
        "import glob\n",
        "import pandas as pd\n",

        "path = 'C:/Users/ITSupport/Desktop/Foldername'\n",

        "file_list = glob.glob(path + '/*.csv')\n",
        "list_file = []\n",
        "print(file_list)\n",
        "for p in file_list:\n",
            "\tfile = pd.read_csv(p)",
            "\tfile['New Column'] = '-'\n",
            "\tif p == 'C:/Users/ITSupport/Desktop/Foldername\\filename1.csv':\n",
                "#append_the_new_column_with_a_value\n",
                "\tfile['New Column'] = 'One'\n",
            "\telif p == 'C:/Users/ITSupport/Desktop/Foldername\\filename2.csv':\n",
                "\tfile['New Column'] = 'Two'\n",
            "\telif p == 'C:/Users/ITSupport/Desktop/Foldername\\filename3.csv':\n",
                "\tfile['New Column'] = 'Three'\n",

            "\tlist_file.append(file)\n",
        "#concatenate_the_dataframes\n"
        "merge = pd.concat(list_file,ignore_index=True)\n",
        "#save_the_new_file\n",
        "merge.to_csv('new_merged_file.csv',index=False)\n"
    
   ]
  }
  ],



"metadata": {
  "kernelspec": {
   "display_name": "Python 3",
   "language": "python",
   "name": "python3"
  },
  "language_info": {
   "codemirror_mode": {
    "name": "ipython",
    "version": 3
   },
   "file_extension": ".py",
   "mimetype": "text/x-python",
   "name": "python",
   "nbconvert_exporter": "python",
   "pygments_lexer": "ipython3",
   "version": "3.11.3"
  },
  "orig_nbformat": 4
 },
 "nbformat": 4,
 "nbformat_minor": 2
}

