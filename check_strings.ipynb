{
 "cells": [
  {
   "cell_type": "code",
   "execution_count": null,
   "metadata": {},
   "outputs": [],
   "source": [
    "#NJ ezpass wh2 \n",
   
    "import pandas as pd\n",
    "\n",
    "df_total = pd.read_csv('df_total.csv', dtype={'COLUMN NUMBER': str})\n",
    "\n",
    "df_wh2 = pd.read_csv('df_compare.csv')\n",
    "\n",
    "unfound = []\n",
    "count = 0\n",
    ,,

    "for index,row in df_total.iterrows():\n",
    "    check_df = df_wh2[df_wh2['Number'].astype(str).str.contains(row['COLUMN NUMBER'])]\n",
    "    if check_df.shape[0] > 0:\n",
    "        df_total.loc[index, 'COLUMN NUMBER'] = check_df['Number'].iloc[0]\n",
    "        count += 1\n",
    "    else:\n",
    "        unfound.append(index)\n",
    "        \n",
    "print(count)\n",
    "\n",
    "unfound_df = df_total.loc[unfound]\n",
    "\n",
    "unfound_df.to_csv('unmatching.csv',index=False)\n"
   ]
  }
 ],
 "metadata": {
  "language_info": {
   "name": "python"
  },
  "orig_nbformat": 4
 },
 "nbformat": 4,
 "nbformat_minor": 2
}
