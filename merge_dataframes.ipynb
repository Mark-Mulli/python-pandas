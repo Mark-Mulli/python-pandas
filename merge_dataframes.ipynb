{
 "cells": [
  {
   "cell_type": "code",
   "execution_count": null,
   "metadata": {},
   "outputs": [],
   "source": [
    "#import_libraries\n",
    "import glob\n",
    "import pandas as pd\n",
    "\n",
    "path = \"C:/Users/ITSupport/Desktop/Foldername\"\n",
    "\n",
    "file_list = glob.glob(path + \"/*.csv\")\n",
    "data_frame = []\n",
    "print(file_list)\n",
    "for p in file_list:\n",
    "    file = pd.read_csv(p)\n",
    "    file['New Column'] = '-'\n",
    "    if p == 'C:/Users/ITSupport/Desktop/Foldername\\\\filename1.csv':\n",
    "        #append_the_new_column_with_a_value\n",
    "        file['New Column'] = 'One'\n",
    "    elif p == 'C:/Users/ITSupport/Desktop/Foldername\\\\filename2.csv':\n",
    "        file['New Column'] = 'Two'\n",
    "    elif p == 'C:/Users/ITSupport/Desktop/Foldername\\\\filename3.csv':\n",
    "        file['New Column'] = 'Three'\n",
    "    \n",
    "    list_file.append(file)\n",
    "#concatenate_the_dataframes\n",
    "merge = pd.concat(list_file,ignore_index=True)\n",
    "#save_the_new_file\n",
    "merge.to_csv('new_merged_file.csv',index=False)\n",
    "\n"
   ]
  }
 ],
 "metadata": {
  "language_info": {
   "name": "python"
  },
  "orig_nbformat": 4
 },
 "nbformat": 4,
 "nbformat_minor": 2
}
